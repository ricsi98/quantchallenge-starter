{
 "cells": [
  {
   "cell_type": "code",
   "execution_count": null,
   "id": "c08e34e4",
   "metadata": {},
   "outputs": [],
   "source": [
    "import pandas as pd\n",
    "import numpy as np\n",
    "\n",
    "\n",
    "train_data = pd.read_csv('./data/train.csv')\n",
    "test_data = pd.read_csv('./data/test.csv')"
   ]
  },
  {
   "cell_type": "code",
   "execution_count": 2,
   "id": "37bfc8d8",
   "metadata": {},
   "outputs": [],
   "source": [
    "features = list(sorted(set(test_data.columns.tolist()) - {\"time\", \"id\"}))"
   ]
  },
  {
   "cell_type": "code",
   "execution_count": null,
   "id": "65da7125",
   "metadata": {},
   "outputs": [],
   "source": [
    "# Basic linreg\n",
    "from sklearn.linear_model import LinearRegression\n",
    "\n",
    "preds = test_data[['id']].copy()\n",
    "\n",
    "m1 = LinearRegression(fit_intercept=True)\n",
    "m1.fit(train_data[features], train_data[\"Y1\"])\n",
    "preds[\"Y1\"] = m1.predict(test_data[features])\n",
    "\n",
    "m2 = LinearRegression(fit_intercept=True)\n",
    "m2.fit(train_data[features], train_data[\"Y2\"])\n",
    "preds[\"Y2\"] = m2.predict(test_data[features])\n",
    "\n",
    "preds.to_csv('preds.csv', index=False)"
   ]
  },
  {
   "cell_type": "code",
   "execution_count": null,
   "id": "34c8806d",
   "metadata": {},
   "outputs": [
    {
     "name": "stdout",
     "output_type": "stream",
     "text": [
      "MA 10\n",
      "MA 100\n",
      "MA 1000\n",
      "MA 5000\n"
     ]
    },
    {
     "name": "stderr",
     "output_type": "stream",
     "text": [
      " 71%|███████▏  | 10/14 [04:05<01:37, 24.39s/it]"
     ]
    }
   ],
   "source": [
    "from tqdm import tqdm\n",
    "X = train_data[features]\n",
    "feats = {}\n",
    "# create moving averages\n",
    "mas = [10, 100, 1000, 5000]\n",
    "for ma in mas:\n",
    "    print(\"MA\", ma)\n",
    "    for col in X.columns:\n",
    "        roll = X[col].rolling(window=ma)\n",
    "        feats[f\"ma_{ma}_{col}_mean\"] = roll.mean()\n",
    "        feats[f\"ma_{ma}_{col}_std\"] = roll.mean()\n",
    "        feats[f\"ma_{ma}_{col}_10pct\"] = roll.quantile(0.1)\n",
    "        feats[f\"ma_{ma}_{col}_90pct\"] = roll.quantile(0.9)\n",
    "\n",
    "for ma in [100, 2500]:\n",
    "    for col in tqdm(X.columns):\n",
    "        roll = X[col].rolling(window=ma)\n",
    "        feats[f\"lr_coeff_{ma}_{col}\"] = roll.agg(lambda x: LinearRegression().fit(np.arange(len(x)).reshape(-1,1), x).coef_)\n",
    "\n",
    "for col in X.columns:\n",
    "    feats[f\"diff_{col}\"] = X[col].diff()\n",
    "    feats[f\"lag_1_{col}\"] = X[col].shift(1)\n",
    "\n",
    "full_feats = pd.DataFrame(feats)"
   ]
  },
  {
   "cell_type": "code",
   "execution_count": 22,
   "id": "1874dd5f",
   "metadata": {},
   "outputs": [
    {
     "name": "stdout",
     "output_type": "stream",
     "text": [
      "ma_10_A_90pct 0.008436001186658073 0.3227499243154101\n",
      "ma_10_B_mean -0.007978240289874311 0.4222829576740693\n",
      "ma_10_B_std -0.007978240289874311 0.4222829576740693\n",
      "ma_10_B_10pct 0.0014981250024895783 0.3506606620399282\n",
      "ma_10_B_90pct -0.009259659577956584 0.41545614503103473\n",
      "ma_10_C_10pct 0.10470323048198026 -0.43194542270640834\n",
      "ma_10_C_90pct 0.10654234248568482 0.33589463274654413\n",
      "ma_10_D_mean 0.0028535063236529543 0.4186756476017388\n",
      "ma_10_D_std 0.0028535063236529543 0.4186756476017388\n",
      "ma_10_D_10pct 0.004322950156292821 0.3412753973075849\n",
      "ma_10_D_90pct 0.002074513802945597 0.4247711746341437\n",
      "ma_10_E_10pct 0.10350773885182926 -0.3931790047841644\n",
      "ma_10_E_90pct 0.10739843857731171 0.304740926158251\n",
      "ma_10_F_mean -0.007276087076783393 0.3312684198739079\n",
      "ma_10_F_std -0.007276087076783393 0.3312684198739079\n",
      "ma_10_F_90pct -0.009057679735393735 0.34688820665061015\n",
      "ma_10_G_10pct 0.11125190807721631 -0.42527242473624766\n",
      "ma_10_G_90pct 0.12826816257556403 0.3678078277606873\n",
      "ma_10_H_10pct 0.10338831344818625 -0.4095208757536202\n",
      "ma_10_I_mean -0.005064581596335578 0.3594864381583638\n",
      "ma_10_I_std -0.005064581596335578 0.3594864381583638\n",
      "ma_10_I_10pct 0.003299941259842926 0.30545083897023345\n",
      "ma_10_I_90pct -0.005844871704743766 0.3587622800002776\n",
      "ma_10_J_10pct 0.10945156172256539 -0.42572390338242877\n",
      "ma_10_J_90pct 0.1062865797974089 0.3055781482126608\n",
      "ma_10_K_mean 0.001607748678167715 0.42136911647316905\n",
      "ma_10_K_std 0.001607748678167715 0.42136911647316905\n",
      "ma_10_K_10pct 0.0018498379887606712 0.34035560140982885\n",
      "ma_10_K_90pct -0.0009919853144983218 0.4350747908180046\n",
      "ma_10_L_mean -0.003737256431244321 0.35581892605773\n",
      "ma_10_L_std -0.003737256431244321 0.35581892605773\n",
      "ma_10_L_90pct -0.006394242846301943 0.36941931119892624\n",
      "ma_10_M_10pct 0.10160083592892272 -0.40698153288406835\n",
      "ma_10_N_10pct 0.09119945134963599 -0.4084614776731104\n",
      "lag_1_A 0.011893083728571969 0.34451252326951604\n",
      "lag_1_B 0.004872517614755082 0.4326564797938667\n",
      "diff_C 0.4895722745492967 0.002745418126080394\n",
      "lag_1_D 0.010399418923320556 0.4350848104882692\n",
      "diff_E 0.4773608208577985 0.0078042453174506955\n",
      "lag_1_F 0.008358323456827644 0.3531882844792027\n",
      "diff_G 0.5707744423084848 -0.0009957209587041329\n",
      "diff_H 0.49302828022794964 0.0037061143895883537\n",
      "lag_1_I 0.012962821015619101 0.37001646039517777\n",
      "diff_J 0.5014715422528875 -0.003300711609198861\n",
      "lag_1_K 0.01528269500236546 0.4505399489501345\n",
      "lag_1_L 0.0068569798740462 0.37994573759158146\n",
      "diff_M 0.4747128360997254 -0.006725991997966368\n",
      "diff_N 0.4170615116571166 0.0012870524544271514\n"
     ]
    }
   ],
   "source": [
    "THRESHOLD = 0.3\n",
    "for col in full_feats.columns:\n",
    "    cy1 = full_feats[col].corr(train_data[\"Y1\"])\n",
    "    cy2 = full_feats[col].corr(train_data[\"Y2\"])\n",
    "    if abs(cy1) > THRESHOLD or abs(cy2) > THRESHOLD:\n",
    "        print(col,cy1,cy2)"
   ]
  },
  {
   "cell_type": "code",
   "execution_count": 23,
   "id": "bc4cb7e1",
   "metadata": {},
   "outputs": [
    {
     "name": "stderr",
     "output_type": "stream",
     "text": [
      "[I 2025-09-20 12:15:50,759] A new study created in memory with name: no-name-7152c793-04b4-45f5-8bf5-35b54ce4d45d\n"
     ]
    },
    {
     "name": "stdout",
     "output_type": "stream",
     "text": [
      "(80000, 266)\n"
     ]
    },
    {
     "name": "stderr",
     "output_type": "stream",
     "text": [
      "[I 2025-09-20 12:15:54,402] Trial 0 finished with value: 0.710998818952956 and parameters: {'n_estimators': 159, 'num_leaves': 78, 'max_depth': 15, 'min_child_sample': 80, 'subsample': 0.9391143207807309, 'colsample_bytree': 0.7634642476793414, 'reg_alpha': 4.35861478151366e-07, 'reg_lambda': 0.0016252210203816174}. Best is trial 0 with value: 0.710998818952956.\n",
      "[I 2025-09-20 12:15:56,376] Trial 1 finished with value: 0.7137012692387674 and parameters: {'n_estimators': 188, 'num_leaves': 21, 'max_depth': 8, 'min_child_sample': 80, 'subsample': 0.7107109583528362, 'colsample_bytree': 0.860328396086419, 'reg_alpha': 6.096083619365188e-06, 'reg_lambda': 1.401971121146837e-08}. Best is trial 1 with value: 0.7137012692387674.\n",
      "[I 2025-09-20 12:15:58,304] Trial 2 finished with value: 0.7129377927791534 and parameters: {'n_estimators': 212, 'num_leaves': 17, 'max_depth': 15, 'min_child_sample': 62, 'subsample': 0.8648290030776753, 'colsample_bytree': 0.9106510184692627, 'reg_alpha': 2.0931133391670616e-08, 'reg_lambda': 0.0021106368147057494}. Best is trial 1 with value: 0.7137012692387674.\n",
      "[I 2025-09-20 12:16:03,199] Trial 3 finished with value: 0.7132512918973362 and parameters: {'n_estimators': 282, 'num_leaves': 86, 'max_depth': 13, 'min_child_sample': 82, 'subsample': 0.6453401680528806, 'colsample_bytree': 0.9243108588762057, 'reg_alpha': 0.25418086082147384, 'reg_lambda': 3.022224430753318e-06}. Best is trial 1 with value: 0.7137012692387674.\n",
      "[I 2025-09-20 12:16:04,994] Trial 4 finished with value: 0.7134430825922137 and parameters: {'n_estimators': 181, 'num_leaves': 20, 'max_depth': 8, 'min_child_sample': 89, 'subsample': 0.7609167458842512, 'colsample_bytree': 0.9420989151974948, 'reg_alpha': 0.3147493314666795, 'reg_lambda': 0.8805395140552885}. Best is trial 1 with value: 0.7137012692387674.\n",
      "[I 2025-09-20 12:16:06,848] Trial 5 finished with value: 0.7130461397823395 and parameters: {'n_estimators': 262, 'num_leaves': 98, 'max_depth': 3, 'min_child_sample': 48, 'subsample': 0.8011449108164956, 'colsample_bytree': 0.9600962799659591, 'reg_alpha': 0.3679014897878837, 'reg_lambda': 0.01662700031561195}. Best is trial 1 with value: 0.7137012692387674.\n",
      "[I 2025-09-20 12:16:08,785] Trial 6 finished with value: 0.717423179530605 and parameters: {'n_estimators': 62, 'num_leaves': 75, 'max_depth': 10, 'min_child_sample': 67, 'subsample': 0.7755806643106664, 'colsample_bytree': 0.3877675343767605, 'reg_alpha': 1.7745765355892944, 'reg_lambda': 0.4470418806311992}. Best is trial 6 with value: 0.717423179530605.\n",
      "[I 2025-09-20 12:16:10,373] Trial 7 finished with value: 0.7127314827430303 and parameters: {'n_estimators': 78, 'num_leaves': 35, 'max_depth': 14, 'min_child_sample': 28, 'subsample': 0.9188689005247035, 'colsample_bytree': 0.7381957347874961, 'reg_alpha': 0.016100971625582862, 'reg_lambda': 0.000169615030321967}. Best is trial 6 with value: 0.717423179530605.\n",
      "[I 2025-09-20 12:16:13,774] Trial 8 finished with value: 0.7111400942945905 and parameters: {'n_estimators': 243, 'num_leaves': 56, 'max_depth': 10, 'min_child_sample': 32, 'subsample': 0.8126101014364018, 'colsample_bytree': 0.7689247817080502, 'reg_alpha': 1.5708975864287814e-06, 'reg_lambda': 0.053939007589578224}. Best is trial 6 with value: 0.717423179530605.\n",
      "[I 2025-09-20 12:16:15,114] Trial 9 finished with value: 0.7185928993487275 and parameters: {'n_estimators': 104, 'num_leaves': 21, 'max_depth': 13, 'min_child_sample': 55, 'subsample': 0.8122064250611236, 'colsample_bytree': 0.47938057321306576, 'reg_alpha': 0.05565199654768767, 'reg_lambda': 2.204339358860491e-08}. Best is trial 9 with value: 0.7185928993487275.\n",
      "[I 2025-09-20 12:16:15,733] Trial 10 finished with value: 0.5343150331238538 and parameters: {'n_estimators': 19, 'num_leaves': 3, 'max_depth': 12, 'min_child_sample': 8, 'subsample': 0.5052458404662736, 'colsample_bytree': 0.48562509350745386, 'reg_alpha': 0.0007247066106807912, 'reg_lambda': 1.3882364459753842e-08}. Best is trial 9 with value: 0.7185928993487275.\n",
      "[I 2025-09-20 12:16:17,480] Trial 11 finished with value: 0.7219560538707834 and parameters: {'n_estimators': 108, 'num_leaves': 56, 'max_depth': 11, 'min_child_sample': 58, 'subsample': 0.685805840082756, 'colsample_bytree': 0.30109076945907953, 'reg_alpha': 8.365066827190633, 'reg_lambda': 4.893466471894359}. Best is trial 11 with value: 0.7219560538707834.\n",
      "[I 2025-09-20 12:16:20,405] Trial 12 finished with value: 0.7186679082952216 and parameters: {'n_estimators': 114, 'num_leaves': 51, 'max_depth': 11, 'min_child_sample': 47, 'subsample': 0.647204574792694, 'colsample_bytree': 0.319696572977525, 'reg_alpha': 0.0045813919173804014, 'reg_lambda': 4.043121270020963e-06}. Best is trial 11 with value: 0.7219560538707834.\n",
      "[I 2025-09-20 12:16:22,860] Trial 13 finished with value: 0.721281097159622 and parameters: {'n_estimators': 117, 'num_leaves': 54, 'max_depth': 6, 'min_child_sample': 42, 'subsample': 0.6183898824120717, 'colsample_bytree': 0.3067881807570744, 'reg_alpha': 0.0007201737721946983, 'reg_lambda': 8.086511239979575e-06}. Best is trial 11 with value: 0.7219560538707834.\n",
      "[I 2025-09-20 12:16:25,150] Trial 14 finished with value: 0.7176897908213333 and parameters: {'n_estimators': 126, 'num_leaves': 55, 'max_depth': 5, 'min_child_sample': 33, 'subsample': 0.5284206489524021, 'colsample_bytree': 0.5678693282903176, 'reg_alpha': 7.2458808087387965, 'reg_lambda': 8.840646388914778e-06}. Best is trial 11 with value: 0.7219560538707834.\n",
      "[I 2025-09-20 12:16:26,182] Trial 15 finished with value: 0.7177623759865586 and parameters: {'n_estimators': 45, 'num_leaves': 42, 'max_depth': 6, 'min_child_sample': 14, 'subsample': 0.5885831208572858, 'colsample_bytree': 0.3033031608007794, 'reg_alpha': 5.0446283015701584e-05, 'reg_lambda': 6.109002080436142e-05}. Best is trial 11 with value: 0.7219560538707834.\n",
      "[I 2025-09-20 12:16:27,631] Trial 16 finished with value: 0.7192614158346498 and parameters: {'n_estimators': 142, 'num_leaves': 66, 'max_depth': 6, 'min_child_sample': 38, 'subsample': 0.6915014213292858, 'colsample_bytree': 0.44365099217286075, 'reg_alpha': 0.0002019233019727292, 'reg_lambda': 7.44826342766028}. Best is trial 11 with value: 0.7219560538707834.\n",
      "[I 2025-09-20 12:16:28,475] Trial 17 finished with value: 0.7077314927844822 and parameters: {'n_estimators': 84, 'num_leaves': 65, 'max_depth': 3, 'min_child_sample': 66, 'subsample': 0.5867483814218554, 'colsample_bytree': 0.5944694134109093, 'reg_alpha': 4.637515311869558e-08, 'reg_lambda': 4.0165383496570315e-07}. Best is trial 11 with value: 0.7219560538707834.\n",
      "[I 2025-09-20 12:16:29,446] Trial 18 finished with value: 0.7037337652870521 and parameters: {'n_estimators': 24, 'num_leaves': 39, 'max_depth': 8, 'min_child_sample': 23, 'subsample': 0.6137727429344033, 'colsample_bytree': 0.41277767277529653, 'reg_alpha': 0.001331741552624023, 'reg_lambda': 4.418967890220204e-07}. Best is trial 11 with value: 0.7219560538707834.\n",
      "[I 2025-09-20 12:16:30,745] Trial 19 finished with value: 0.7166784382310183 and parameters: {'n_estimators': 161, 'num_leaves': 46, 'max_depth': 5, 'min_child_sample': 56, 'subsample': 0.69603426713052, 'colsample_bytree': 0.3757834757297019, 'reg_alpha': 2.5679892389242e-05, 'reg_lambda': 9.024375039619338}. Best is trial 11 with value: 0.7219560538707834.\n",
      "[I 2025-09-20 12:16:33,643] Trial 20 finished with value: 0.7139155898449738 and parameters: {'n_estimators': 96, 'num_leaves': 64, 'max_depth': 7, 'min_child_sample': 100, 'subsample': 0.7234811092891817, 'colsample_bytree': 0.5416787302712043, 'reg_alpha': 5.376042629923435, 'reg_lambda': 4.3447506155628145e-05}. Best is trial 11 with value: 0.7219560538707834.\n",
      "[I 2025-09-20 12:16:35,475] Trial 21 finished with value: 0.7205687812503374 and parameters: {'n_estimators': 136, 'num_leaves': 65, 'max_depth': 5, 'min_child_sample': 41, 'subsample': 0.6690150935703341, 'colsample_bytree': 0.4405815871545589, 'reg_alpha': 0.00013452628986570226, 'reg_lambda': 3.610879253377871}. Best is trial 11 with value: 0.7219560538707834.\n",
      "[I 2025-09-20 12:16:36,702] Trial 22 finished with value: 0.7177160649609348 and parameters: {'n_estimators': 140, 'num_leaves': 74, 'max_depth': 4, 'min_child_sample': 44, 'subsample': 0.6619197444058326, 'colsample_bytree': 0.35280162036396345, 'reg_alpha': 7.63335607665535e-05, 'reg_lambda': 0.9289058833159253}. Best is trial 11 with value: 0.7219560538707834.\n",
      "[I 2025-09-20 12:16:39,785] Trial 23 finished with value: 0.719781801160415 and parameters: {'n_estimators': 123, 'num_leaves': 33, 'max_depth': 10, 'min_child_sample': 42, 'subsample': 0.5597463790048269, 'colsample_bytree': 0.3036085572297773, 'reg_alpha': 0.005819678860589162, 'reg_lambda': 0.1370045575482611}. Best is trial 11 with value: 0.7219560538707834.\n",
      "[I 2025-09-20 12:16:41,957] Trial 24 finished with value: 0.7161260012013597 and parameters: {'n_estimators': 60, 'num_leaves': 61, 'max_depth': 6, 'min_child_sample': 19, 'subsample': 0.6332509773261729, 'colsample_bytree': 0.6739883300682804, 'reg_alpha': 8.947523906272041e-06, 'reg_lambda': 0.005277713683534299}. Best is trial 11 with value: 0.7219560538707834.\n",
      "[I 2025-09-20 12:16:45,210] Trial 25 finished with value: 0.7192769733609039 and parameters: {'n_estimators': 199, 'num_leaves': 90, 'max_depth': 9, 'min_child_sample': 71, 'subsample': 0.7401379285833815, 'colsample_bytree': 0.44733328881138534, 'reg_alpha': 1.9767826475854456e-07, 'reg_lambda': 2.4127070738007625}. Best is trial 11 with value: 0.7219560538707834.\n",
      "[I 2025-09-20 12:16:47,110] Trial 26 finished with value: 0.7169133326271171 and parameters: {'n_estimators': 221, 'num_leaves': 49, 'max_depth': 4, 'min_child_sample': 56, 'subsample': 0.6787502153081473, 'colsample_bytree': 0.37478549294758895, 'reg_alpha': 0.047407436586311025, 'reg_lambda': 0.15441277767612177}. Best is trial 11 with value: 0.7219560538707834.\n",
      "[I 2025-09-20 12:16:50,687] Trial 27 finished with value: 0.716364209114892 and parameters: {'n_estimators': 169, 'num_leaves': 71, 'max_depth': 7, 'min_child_sample': 38, 'subsample': 0.5578658435809274, 'colsample_bytree': 0.533698392266041, 'reg_alpha': 0.0002317022862189432, 'reg_lambda': 0.0003854721819301274}. Best is trial 11 with value: 0.7219560538707834.\n",
      "[I 2025-09-20 12:16:52,414] Trial 28 finished with value: 0.7189968834043994 and parameters: {'n_estimators': 140, 'num_leaves': 58, 'max_depth': 11, 'min_child_sample': 50, 'subsample': 0.6081353418739228, 'colsample_bytree': 0.3465414236646223, 'reg_alpha': 0.00246613614128639, 'reg_lambda': 5.792690540508063e-07}. Best is trial 11 with value: 0.7219560538707834.\n",
      "[I 2025-09-20 12:16:53,557] Trial 29 finished with value: 0.7159661646572179 and parameters: {'n_estimators': 89, 'num_leaves': 29, 'max_depth': 5, 'min_child_sample': 74, 'subsample': 0.9612517418458444, 'colsample_bytree': 0.42680522828491707, 'reg_alpha': 8.562584514169414e-07, 'reg_lambda': 0.014315336758822154}. Best is trial 11 with value: 0.7219560538707834.\n",
      "[I 2025-09-20 12:16:55,734] Trial 30 finished with value: 0.7196811026528492 and parameters: {'n_estimators': 154, 'num_leaves': 81, 'max_depth': 7, 'min_child_sample': 60, 'subsample': 0.8610106076629646, 'colsample_bytree': 0.6326694145580598, 'reg_alpha': 3.6114503102541696e-06, 'reg_lambda': 0.0004434992087084463}. Best is trial 11 with value: 0.7219560538707834.\n",
      "[I 2025-09-20 12:16:57,260] Trial 31 finished with value: 0.7205390476994464 and parameters: {'n_estimators': 116, 'num_leaves': 35, 'max_depth': 10, 'min_child_sample': 41, 'subsample': 0.5577020773195365, 'colsample_bytree': 0.30675927304286316, 'reg_alpha': 0.00829797484164956, 'reg_lambda': 0.17571737176387991}. Best is trial 11 with value: 0.7219560538707834.\n",
      "[I 2025-09-20 12:17:01,174] Trial 32 finished with value: 0.7195571897648586 and parameters: {'n_estimators': 113, 'num_leaves': 47, 'max_depth': 11, 'min_child_sample': 39, 'subsample': 0.553331352654042, 'colsample_bytree': 0.34027806094020263, 'reg_alpha': 0.00038944996171688196, 'reg_lambda': 2.336499275409015}. Best is trial 11 with value: 0.7219560538707834.\n",
      "[I 2025-09-20 12:17:03,062] Trial 33 finished with value: 0.7199103334216848 and parameters: {'n_estimators': 68, 'num_leaves': 41, 'max_depth': 9, 'min_child_sample': 27, 'subsample': 0.5924985414274813, 'colsample_bytree': 0.49448079042174997, 'reg_alpha': 0.012961740305885677, 'reg_lambda': 0.2625135875899007}. Best is trial 11 with value: 0.7219560538707834.\n",
      "[I 2025-09-20 12:17:04,810] Trial 34 finished with value: 0.7192312241690356 and parameters: {'n_estimators': 130, 'num_leaves': 54, 'max_depth': 12, 'min_child_sample': 34, 'subsample': 0.668763611260952, 'colsample_bytree': 0.384097482024273, 'reg_alpha': 1.7967669955407956e-05, 'reg_lambda': 2.0198743904123906}. Best is trial 11 with value: 0.7219560538707834.\n",
      "[I 2025-09-20 12:17:06,360] Trial 35 finished with value: 0.7207338555404044 and parameters: {'n_estimators': 105, 'num_leaves': 69, 'max_depth': 9, 'min_child_sample': 51, 'subsample': 0.6262044793483801, 'colsample_bytree': 0.4101524865015117, 'reg_alpha': 9.010863363613683e-05, 'reg_lambda': 0.04639731105098654}. Best is trial 11 with value: 0.7219560538707834.\n",
      "[I 2025-09-20 12:17:09,662] Trial 36 finished with value: 0.7205299589233178 and parameters: {'n_estimators': 97, 'num_leaves': 83, 'max_depth': 8, 'min_child_sample': 62, 'subsample': 0.7151765087591001, 'colsample_bytree': 0.42190674607373124, 'reg_alpha': 8.347552646060227e-05, 'reg_lambda': 0.002202407611445174}. Best is trial 11 with value: 0.7219560538707834.\n",
      "[I 2025-09-20 12:17:16,720] Trial 37 finished with value: 0.7160241488766301 and parameters: {'n_estimators': 180, 'num_leaves': 69, 'max_depth': 9, 'min_child_sample': 51, 'subsample': 0.6336760327528446, 'colsample_bytree': 0.8517739265152007, 'reg_alpha': 1.6446364856020799, 'reg_lambda': 0.03584935765272095}. Best is trial 11 with value: 0.7219560538707834.\n",
      "[I 2025-09-20 12:17:18,575] Trial 38 finished with value: 0.7133758639435024 and parameters: {'n_estimators': 46, 'num_leaves': 60, 'max_depth': 15, 'min_child_sample': 77, 'subsample': 0.7559414082474524, 'colsample_bytree': 0.4591001026194538, 'reg_alpha': 2.632894567850743e-07, 'reg_lambda': 6.836239324781721}. Best is trial 11 with value: 0.7219560538707834.\n",
      "[I 2025-09-20 12:17:21,469] Trial 39 finished with value: 0.7149888367192114 and parameters: {'n_estimators': 149, 'num_leaves': 91, 'max_depth': 4, 'min_child_sample': 47, 'subsample': 0.62642324361943, 'colsample_bytree': 0.5109155516433584, 'reg_alpha': 0.12221352179522688, 'reg_lambda': 0.762672939973619}. Best is trial 11 with value: 0.7219560538707834.\n",
      "[I 2025-09-20 12:17:24,687] Trial 40 finished with value: 0.7155844287496723 and parameters: {'n_estimators': 294, 'num_leaves': 79, 'max_depth': 14, 'min_child_sample': 83, 'subsample': 0.6590741319399901, 'colsample_bytree': 0.39955389711921263, 'reg_alpha': 2.8797363593963437e-06, 'reg_lambda': 0.006956398878614139}. Best is trial 11 with value: 0.7219560538707834.\n",
      "[I 2025-09-20 12:17:25,892] Trial 41 finished with value: 0.7200280214972559 and parameters: {'n_estimators': 115, 'num_leaves': 29, 'max_depth': 10, 'min_child_sample': 42, 'subsample': 0.5341538966280144, 'colsample_bytree': 0.3328327253213024, 'reg_alpha': 0.0013046822142936559, 'reg_lambda': 0.36618830943769587}. Best is trial 11 with value: 0.7219560538707834.\n",
      "[I 2025-09-20 12:17:27,394] Trial 42 finished with value: 0.7178475867403951 and parameters: {'n_estimators': 105, 'num_leaves': 73, 'max_depth': 12, 'min_child_sample': 58, 'subsample': 0.5750282242900099, 'colsample_bytree': 0.3024063481511171, 'reg_alpha': 0.00018124674522255362, 'reg_lambda': 0.07969838389290579}. Best is trial 11 with value: 0.7219560538707834.\n",
      "[I 2025-09-20 12:17:28,308] Trial 43 finished with value: 0.7090487378684109 and parameters: {'n_estimators': 73, 'num_leaves': 7, 'max_depth': 10, 'min_child_sample': 66, 'subsample': 0.6085165010045961, 'colsample_bytree': 0.35914514349195353, 'reg_alpha': 1.0047057522874596, 'reg_lambda': 1.3485853506197643}. Best is trial 11 with value: 0.7219560538707834.\n",
      "[I 2025-09-20 12:17:31,339] Trial 44 finished with value: 0.7155230231310705 and parameters: {'n_estimators': 127, 'num_leaves': 53, 'max_depth': 8, 'min_child_sample': 53, 'subsample': 0.5022691017219068, 'colsample_bytree': 0.9971022267826684, 'reg_alpha': 0.0005090620544005803, 'reg_lambda': 0.026904061666896885}. Best is trial 11 with value: 0.7219560538707834.\n",
      "[I 2025-09-20 12:17:35,473] Trial 45 finished with value: 0.7190655086603182 and parameters: {'n_estimators': 162, 'num_leaves': 61, 'max_depth': 9, 'min_child_sample': 46, 'subsample': 0.6937598234522248, 'colsample_bytree': 0.3320945954698652, 'reg_alpha': 0.035069487869834846, 'reg_lambda': 3.2087704759832496}. Best is trial 11 with value: 0.7219560538707834.\n",
      "[I 2025-09-20 12:17:36,790] Trial 46 finished with value: 0.720879185020184 and parameters: {'n_estimators': 83, 'num_leaves': 44, 'max_depth': 11, 'min_child_sample': 30, 'subsample': 0.7808087483442504, 'colsample_bytree': 0.4047440002051682, 'reg_alpha': 1.6463161356892116e-05, 'reg_lambda': 0.32924901462318934}. Best is trial 11 with value: 0.7219560538707834.\n",
      "[I 2025-09-20 12:17:37,814] Trial 47 finished with value: 0.7174770837521534 and parameters: {'n_estimators': 51, 'num_leaves': 45, 'max_depth': 12, 'min_child_sample': 29, 'subsample': 0.7833554050990561, 'colsample_bytree': 0.40046784267125496, 'reg_alpha': 1.7432960454154544e-05, 'reg_lambda': 0.3823641817929353}. Best is trial 11 with value: 0.7219560538707834.\n",
      "[I 2025-09-20 12:17:41,136] Trial 48 finished with value: 0.717855853111084 and parameters: {'n_estimators': 82, 'num_leaves': 68, 'max_depth': 13, 'min_child_sample': 21, 'subsample': 0.7369029397514982, 'colsample_bytree': 0.45477642540242164, 'reg_alpha': 1.1316698338780822e-08, 'reg_lambda': 1.546849907015919e-05}. Best is trial 11 with value: 0.7219560538707834.\n",
      "[I 2025-09-20 12:17:42,309] Trial 49 finished with value: 0.7120441345447062 and parameters: {'n_estimators': 33, 'num_leaves': 50, 'max_depth': 11, 'min_child_sample': 35, 'subsample': 0.789895327343606, 'colsample_bytree': 0.7075315118414155, 'reg_alpha': 5.108957559737392e-05, 'reg_lambda': 8.296138763507719e-08}. Best is trial 11 with value: 0.7219560538707834.\n"
     ]
    },
    {
     "name": "stdout",
     "output_type": "stream",
     "text": [
      "{'n_estimators': 108, 'num_leaves': 56, 'max_depth': 11, 'min_child_sample': 58, 'subsample': 0.685805840082756, 'colsample_bytree': 0.30109076945907953, 'reg_alpha': 8.365066827190633, 'reg_lambda': 4.893466471894359}\n",
      "0.7219560538707834\n"
     ]
    }
   ],
   "source": [
    "import optuna\n",
    "from sklearn.linear_model import LinearRegression\n",
    "from lightgbm import LGBMRegressor\n",
    "from sklearn.metrics import r2_score, mean_squared_error\n",
    "\n",
    "TARGET = \"Y1\"\n",
    "X = pd.concat((train_data[features], full_feats), axis=1)\n",
    "print(X.shape)\n",
    "y = train_data[TARGET]\n",
    "\n",
    "CUTOFF = int(len(X) * 0.8)\n",
    "\n",
    "x_train, y_train = X.iloc[:CUTOFF], y.iloc[:CUTOFF]\n",
    "x_test, y_test = X.iloc[CUTOFF:], y.iloc[CUTOFF:]\n",
    "\n",
    "\n",
    "def lgbm_objective(trial):\n",
    "    params = {\n",
    "        \"n_estimators\": trial.suggest_int(\"n_estimators\", 10, 300),\n",
    "        \"num_leaves\": trial.suggest_int(\"num_leaves\", 3, 100),\n",
    "        \"max_depth\": trial.suggest_int(\"max_depth\", 3, 15),\n",
    "        \"min_child_samples\": trial.suggest_int(\"min_child_sample\", 5, 100),\n",
    "        \"subsample\": trial.suggest_float(\"subsample\", 0.5, 1.0),\n",
    "        \"colsample_bytree\": trial.suggest_float(\"colsample_bytree\", 0.3, 1.0),\n",
    "        \"reg_alpha\": trial.suggest_float(\"reg_alpha\", 1e-8, 10, log=True),\n",
    "        \"reg_lambda\": trial.suggest_float(\"reg_lambda\", 1e-8, 10, log=True),\n",
    "        \"random_state\": 42,\n",
    "        \"n_jobs\": -1,\n",
    "        \"verbosity\": -1\n",
    "    }\n",
    "    model = LGBMRegressor(**params)\n",
    "    model.fit(x_train, y_train)\n",
    "    pred = model.predict(x_test)\n",
    "    return r2_score(y_test, pred)\n",
    "\n",
    "study = optuna.create_study(direction=\"maximize\")\n",
    "study.optimize(lgbm_objective, n_trials=50)\n",
    "\n",
    "print(study.best_trial.params)\n",
    "print(study.best_value)"
   ]
  },
  {
   "cell_type": "code",
   "execution_count": null,
   "id": "a968aabd",
   "metadata": {},
   "outputs": [],
   "source": []
  }
 ],
 "metadata": {
  "kernelspec": {
   "display_name": "quantchallenge-starter (3.12.9)",
   "language": "python",
   "name": "python3"
  },
  "language_info": {
   "codemirror_mode": {
    "name": "ipython",
    "version": 3
   },
   "file_extension": ".py",
   "mimetype": "text/x-python",
   "name": "python",
   "nbconvert_exporter": "python",
   "pygments_lexer": "ipython3",
   "version": "3.12.9"
  }
 },
 "nbformat": 4,
 "nbformat_minor": 5
}
